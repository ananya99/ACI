{
 "cells": [
  {
   "cell_type": "code",
   "execution_count": 55,
   "metadata": {},
   "outputs": [],
   "source": [
    "import numpy as np\n",
    "from PIL import Image\n",
    "import matplotlib.pyplot as plt\n",
    "\n",
    "def normalize(img):\n",
    "    return (img - np.min(img)) / (np.max(img) - np.min(img))"
   ]
  },
  {
   "cell_type": "code",
   "execution_count": 58,
   "metadata": {},
   "outputs": [
    {
     "data": {
      "text/plain": [
       "(0.0, 1.0)"
      ]
     },
     "execution_count": 58,
     "metadata": {},
     "output_type": "execute_result"
    },
    {
     "data": {
      "image/png": "[encoded data removed]",
      "text/plain": [
       "<Figure size 432x288 with 1 Axes>"
      ]
     },
     "metadata": {
      "needs_background": "light"
     },
     "output_type": "display_data"
    },
    {
     "data": {
      "image/png": "[encoded data removed]",
      "text/plain": [
       "<Figure size 432x288 with 1 Axes>"
      ]
     },
     "metadata": {
      "needs_background": "light"
     },
     "output_type": "display_data"
    }
   ],
   "source": [
    "rgb = np.array(Image.open(\"../3d_debug/rgb_array_large_0.png\"))\n",
    "depth = np.array(np.load(\"../3d_debug/depth_array_0.npy\"))\n",
    "depth = normalize(depth)\n",
    "\n",
    "plt.figure(); plt.imshow(rgb)\n",
    "plt.figure(); plt.imshow(depth)\n",
    "depth.min(), depth.max()"
   ]
  },
  {
   "cell_type": "code",
   "execution_count": 26,
   "metadata": {},
   "outputs": [
    {
     "data": {
      "text/plain": [
       "0.9513785"
      ]
     },
     "execution_count": 26,
     "metadata": {},
     "output_type": "execute_result"
    }
   ],
   "source": [
    "def img_psf_conv(img, psf, otf=None, adjoint=False, circular=False):\n",
    "    '''Performs a convolution of an image and a psf in frequency space.\n",
    "\n",
    "    :param img: Image tensor.\n",
    "    :param psf: PSF tensor.\n",
    "    :param otf: If OTF is already computed, the otf.\n",
    "    :param adjoint: Whether to perform an adjoint convolution or not.\n",
    "    :param circular: Whether to perform a circular convolution or not.\n",
    "    :return: Image convolved with PSF.\n",
    "    '''\n",
    "    img = tf.convert_to_tensor(img, dtype=tf.float32)\n",
    "    psf = tf.convert_to_tensor(psf, dtype=tf.float32)\n",
    "\n",
    "    img_shape = img.shape.as_list()\n",
    "\n",
    "    if not circular:\n",
    "        target_side_length = 2 * img_shape[1]\n",
    "\n",
    "        height_pad = (target_side_length - img_shape[1]) / 2\n",
    "        width_pad = (target_side_length - img_shape[1]) / 2\n",
    "\n",
    "        pad_top, pad_bottom = int(np.ceil(height_pad)), int(np.floor(height_pad))\n",
    "        pad_left, pad_right = int(np.ceil(width_pad)), int(np.floor(width_pad))\n",
    "\n",
    "        img = tf.pad(img, [[0, 0], [pad_top, pad_bottom], [pad_left, pad_right], [0, 0]], \"CONSTANT\")\n",
    "        img_shape = img.shape.as_list()\n",
    "\n",
    "    img_fft = transp_fft2d(img)\n",
    "\n",
    "    if otf is None:\n",
    "        otf = psf2otf(psf, output_size=img_shape[1:3])\n",
    "        otf = tf.transpose(otf, [2, 0, 1, 3])\n",
    "\n",
    "    otf = tf.cast(otf, tf.complex64)\n",
    "    img_fft = tf.cast(img_fft, tf.complex64)\n",
    "\n",
    "    if adjoint:\n",
    "        result = transp_ifft2d(img_fft * tf.conj(otf))\n",
    "    else:\n",
    "        result = transp_ifft2d(img_fft * otf)\n",
    "\n",
    "    result = tf.cast(tf.real(result), tf.float32)\n",
    "\n",
    "    if not circular:\n",
    "        result = result[:, pad_top:-pad_bottom, pad_left:-pad_right, :]\n",
    "\n",
    "    return result\n",
    "\n",
    "\n",
    "def depth_dep_convolution(img, psfs, disc_depth_map):\n",
    "    \"\"\"Convolves an image with different psfs at different depths as determined by a discretized depth map.\n",
    "\n",
    "    Args:\n",
    "        img: image with shape (batch_size, height, width, num_img_channels)\n",
    "        psfs: filters with shape (kernel_height, kernel_width, num_img_channels, num_filters)\n",
    "        disc_depth_map: Discretized depth map.\n",
    "        use_fft: Use img_psf_conv or normal conv2d\n",
    "    \"\"\"\n",
    "    # TODO: only convolve with PSFS that are necessary.\n",
    "    img = tf.cast(img, dtype=tf.float32)\n",
    "    input_shape = img.shape.as_list()\n",
    "\n",
    "    zeros_tensor = tf.zeros_like(img, dtype=tf.float32)\n",
    "    disc_depth_map = tf.tile(tf.cast(disc_depth_map, tf.int16),\n",
    "                             multiples=[1, 1, 1, input_shape[3]])\n",
    "\n",
    "    blurred_imgs = []\n",
    "    for depth_idx, psf in enumerate(psfs):\n",
    "        psf = tf.cast(psf, dtype=tf.float32)\n",
    "        condition = tf.equal(disc_depth_map, tf.convert_to_tensor(depth_idx, tf.int16))\n",
    "        blurred_img = img_psf_conv(img, psf)\n",
    "        blurred_imgs.append(tf.where(condition,\n",
    "                                     blurred_img,\n",
    "                                     zeros_tensor))\n",
    "\n",
    "    result = tf.reduce_sum(blurred_imgs, axis=0)\n",
    "    return result\n"
   ]
  },
  {
   "cell_type": "code",
   "execution_count": null,
   "metadata": {},
   "outputs": [],
   "source": []
  }
 ],
 "metadata": {
  "kernelspec": {
   "display_name": "Python 3 (ipykernel)",
   "language": "python",
   "name": "python3"
  },
  "language_info": {
   "codemirror_mode": {
    "name": "ipython",
    "version": 3
   },
   "file_extension": ".py",
   "mimetype": "text/x-python",
   "name": "python",
   "nbconvert_exporter": "python",
   "pygments_lexer": "ipython3",
   "version": "3.8.13"
  }
 },
 "nbformat": 4,
 "nbformat_minor": 4
}
