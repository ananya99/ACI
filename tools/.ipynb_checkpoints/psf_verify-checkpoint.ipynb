{
 "cells": [
  {
   "cell_type": "code",
   "execution_count": 1,
   "id": "c85aeb30",
   "metadata": {},
   "outputs": [
    {
     "name": "stderr",
     "output_type": "stream",
     "text": [
      "/Users/ktiwary/miniconda3/envs/py36/lib/python3.6/site-packages/tensorflow/python/framework/dtypes.py:493: FutureWarning: Passing (type, 1) or '1type' as a synonym of type is deprecated; in a future version of numpy, it will be understood as (type, (1,)) / '(1,)type'.\n",
      "  _np_qint8 = np.dtype([(\"qint8\", np.int8, 1)])\n",
      "/Users/ktiwary/miniconda3/envs/py36/lib/python3.6/site-packages/tensorflow/python/framework/dtypes.py:494: FutureWarning: Passing (type, 1) or '1type' as a synonym of type is deprecated; in a future version of numpy, it will be understood as (type, (1,)) / '(1,)type'.\n",
      "  _np_quint8 = np.dtype([(\"quint8\", np.uint8, 1)])\n",
      "/Users/ktiwary/miniconda3/envs/py36/lib/python3.6/site-packages/tensorflow/python/framework/dtypes.py:495: FutureWarning: Passing (type, 1) or '1type' as a synonym of type is deprecated; in a future version of numpy, it will be understood as (type, (1,)) / '(1,)type'.\n",
      "  _np_qint16 = np.dtype([(\"qint16\", np.int16, 1)])\n",
      "/Users/ktiwary/miniconda3/envs/py36/lib/python3.6/site-packages/tensorflow/python/framework/dtypes.py:496: FutureWarning: Passing (type, 1) or '1type' as a synonym of type is deprecated; in a future version of numpy, it will be understood as (type, (1,)) / '(1,)type'.\n",
      "  _np_quint16 = np.dtype([(\"quint16\", np.uint16, 1)])\n",
      "/Users/ktiwary/miniconda3/envs/py36/lib/python3.6/site-packages/tensorflow/python/framework/dtypes.py:497: FutureWarning: Passing (type, 1) or '1type' as a synonym of type is deprecated; in a future version of numpy, it will be understood as (type, (1,)) / '(1,)type'.\n",
      "  _np_qint32 = np.dtype([(\"qint32\", np.int32, 1)])\n",
      "/Users/ktiwary/miniconda3/envs/py36/lib/python3.6/site-packages/tensorflow/python/framework/dtypes.py:502: FutureWarning: Passing (type, 1) or '1type' as a synonym of type is deprecated; in a future version of numpy, it will be understood as (type, (1,)) / '(1,)type'.\n",
      "  np_resource = np.dtype([(\"resource\", np.ubyte, 1)])\n"
     ]
    }
   ],
   "source": [
    "import tensorflow as tf\n",
    "import numpy as np\n",
    "from PIL import Image\n",
    "import matplotlib.pyplot as plt\n",
    "import scipy.io as sio"
   ]
  },
  {
   "cell_type": "code",
   "execution_count": 17,
   "id": "8b0a8856",
   "metadata": {},
   "outputs": [],
   "source": [
    "def fft2dshift(input):\n",
    "    dim = int(input.shape[1].value)  # dimension of the data\n",
    "    if dim % 2 == 0:\n",
    "        print('Please make the size of kernel odd')\n",
    "    channel1 = int(input.shape[0].value)  # channels for the first dimension\n",
    "    # shift up and down\n",
    "    u = tf.slice(input, [0, 0, 0], [channel1, int((dim + 1) / 2), dim])\n",
    "    d = tf.slice(input, [0, int((dim + 1) / 2), 0], [channel1, int((dim - 1) / 2), dim])\n",
    "    du = tf.concat([d, u], axis=1)\n",
    "    # shift left and right\n",
    "    l = tf.slice(du, [0, 0, 0], [channel1, dim, int((dim + 1) / 2)])\n",
    "    r = tf.slice(du, [0, 0, int((dim + 1) / 2)], [channel1, dim, int((dim - 1) / 2)])\n",
    "    output = tf.concat([r, l], axis=2)\n",
    "    return output\n",
    "\n",
    "\n",
    "def gen_OOFphase(Phi_list, N, wvls):\n",
    "    # return (Phi_list,pixel,pixel,color)\n",
    "    x0 = np.linspace(-1.1, 1.1, N)\n",
    "    xx, yy = np.meshgrid(x0, x0)\n",
    "    OOFphase = np.empty([len(Phi_list), N, N, len(wvls)], dtype=np.float32)\n",
    "    for j in range(len(Phi_list)):\n",
    "        Phi = Phi_list[j]\n",
    "        for k in range(len(wvls)):\n",
    "            OOFphase[j, :, :, k] = Phi * (xx ** 2 + yy ** 2) * wvls[1] / wvls[k];\n",
    "    return OOFphase\n",
    "\n",
    "\n",
    "def gen_PSFs(h, OOFphase, wvls, idx, N_R, N_G, N_B):\n",
    "    n = 1.5  # diffractive index\n",
    "    with tf.variable_scope(\"Red\"):\n",
    "        OOFphase_R = OOFphase[:, :, :, 0]\n",
    "        phase_R = tf.add(2 * np.pi / wvls[0] * (n - 1) * h, OOFphase_R)\n",
    "        e_defocused_r = tf.multiply(tf.complex(idx, 0.0), tf.exp(tf.complex(0.0, phase_R)))\n",
    "        print(e_defocused_r.eval(), e_defocused_r.shape)\n",
    "        Pupil_R = tf.pad(e_defocused_r,\n",
    "                         [[0, 0], [(N_R - N_B) // 2, (N_R - N_B) // 2], [(N_R - N_B) // 2, (N_R - N_B) // 2]],\n",
    "                         name='Pupil_R')\n",
    "        print(\"pupil_r\", Pupil_R.shape)\n",
    "#         print(\"pupil_r\", Pupil_R.eval(), Pupil_R.shape)\n",
    "        Norm_R = tf.cast(N_R * N_R * np.sum(idx ** 2), tf.float32)\n",
    "        PSF_R = tf.divide(tf.square(tf.abs(fft2dshift(tf.fft2d(Pupil_R)))), Norm_R, name='PSF_R')\n",
    "        print(\"fft\", tf.fft2d(Pupil_R).shape)\n",
    "        print(\"pupil_r\", Pupil_R.shape)\n",
    "        print(\"PSF_R\", PSF_R.shape)\n",
    "\n",
    "    with tf.variable_scope(\"Green\"):\n",
    "        OOFphase_G = OOFphase[:, :, :, 1]\n",
    "        phase_G = tf.add(2 * np.pi / wvls[1] * (n - 1) * h, OOFphase_G)\n",
    "        Pupil_G = tf.pad(tf.multiply(tf.complex(idx, 0.0), tf.exp(tf.complex(0.0, phase_G))),\n",
    "                         [[0, 0], [(N_G - N_B) // 2, (N_G - N_B) // 2], [(N_G - N_B) // 2, (N_G - N_B) // 2]],\n",
    "                         name='Pupil_G')\n",
    "        print(\"fft\", fft2dshift(tf.fft2d(Pupil_G)).shape)\n",
    "        print(\"Pupil_G\", Pupil_G.shape)\n",
    "        Norm_G = tf.cast(N_G * N_G * np.sum(idx ** 2), tf.float32)\n",
    "        PSF_G = tf.divide(tf.square(tf.abs(fft2dshift(tf.fft2d(Pupil_G)))), Norm_G, name='PSF_G')\n",
    "        print(\"PSF_G\", PSF_G.shape)\n",
    "\n",
    "    with tf.variable_scope(\"Blue\"):\n",
    "        OOFphase_B = OOFphase[:, :, :, 2]\n",
    "        phase_B = tf.add(2 * np.pi / wvls[2] * (n - 1) * h, OOFphase_B)\n",
    "        Pupil_B = tf.multiply(tf.complex(idx, 0.0), tf.exp(tf.complex(0.0, phase_B)), name='Pupil_B')\n",
    "        print(\"Pupil_B\", Pupil_B.shape)\n",
    "        Norm_B = tf.cast(N_B * N_B * np.sum(idx ** 2), tf.float32)\n",
    "        PSF_B = tf.divide(tf.square(tf.abs(fft2dshift(tf.fft2d(Pupil_B)))), Norm_B, name='PSF_B')\n",
    "        print(\"PSF_B\", PSF_B.shape)\n",
    "\n",
    "    N_crop_R = int((N_R - N_B) / 2)  # Num of pixel need to cropped at each side for R\n",
    "    N_crop_G = int((N_G - N_B) / 2)  # Num of pixel need to cropped at each side for G\n",
    "\n",
    "    PSFs = tf.stack(\n",
    "        [PSF_R[:, N_crop_R:-N_crop_R, N_crop_R:-N_crop_R], PSF_G[:, N_crop_G:-N_crop_G, N_crop_G:-N_crop_G], PSF_B],\n",
    "        axis=3)\n",
    "    return PSFs"
   ]
  },
  {
   "cell_type": "code",
   "execution_count": 3,
   "id": "95fc1683",
   "metadata": {},
   "outputs": [],
   "source": [
    "# import tensorflow as tf\n",
    "zernike = sio.loadmat('../3d_debug/zernike_basis.mat')\n",
    "u2 = zernike['u2']  # basis of zernike poly\n",
    "idx = zernike['idx']\n",
    "idx = idx.astype(np.float32)\n",
    "\n",
    "N_R = 31\n",
    "N_G = 27\n",
    "N_B = 23  # size of the blur kernel\n",
    "wvls = np.array([610, 530, 470]) * 1e-9\n",
    "\n",
    "N_modes = u2.shape[1]  # load zernike modes"
   ]
  },
  {
   "cell_type": "code",
   "execution_count": 4,
   "id": "630f363c",
   "metadata": {},
   "outputs": [
    {
     "name": "stdout",
     "output_type": "stream",
     "text": [
      "(21, 23, 23, 3)\n"
     ]
    }
   ],
   "source": [
    "# generate the defocus phase\n",
    "Phi_list = np.linspace(-10, 10, 21, np.float32)\n",
    "OOFphase = gen_OOFphase(Phi_list, N_B, wvls)  # return (N_Phi,N_B,N_B,N_color)    \n",
    "print(OOFphase.shape)\n",
    "####################################   Build the architecture  #####################################################\n",
    "\n",
    "with tf.variable_scope(\"PSFs\"):\n",
    "    a_zernike = tf.get_variable(\"a_zernike\", [N_modes, 1], initializer=tf.zeros_initializer(),\n",
    "                                constraint=lambda x: tf.clip_by_value(x, -wvls[1] / 2, wvls[1] / 2))\n",
    "    g = tf.matmul(u2, a_zernike)\n",
    "    h = tf.nn.relu(tf.reshape(g, [N_B, N_B]) + wvls[1],\n",
    "                   name='heightMap')  # height map of the phase mask, should be all positive"
   ]
  },
  {
   "cell_type": "code",
   "execution_count": 18,
   "id": "9da862cb",
   "metadata": {
    "scrolled": true
   },
   "outputs": [
    {
     "name": "stdout",
     "output_type": "stream",
     "text": [
      "[[[ 0.+0.j -0.+0.j  0.-0.j ...  0.-0.j -0.+0.j  0.+0.j]\n",
      "  [-0.+0.j  0.-0.j  0.+0.j ...  0.+0.j  0.-0.j -0.+0.j]\n",
      "  [ 0.-0.j  0.+0.j  0.+0.j ...  0.+0.j  0.+0.j  0.-0.j]\n",
      "  ...\n",
      "  [ 0.-0.j  0.+0.j  0.+0.j ...  0.+0.j  0.+0.j  0.-0.j]\n",
      "  [-0.+0.j  0.-0.j  0.+0.j ...  0.+0.j  0.-0.j -0.+0.j]\n",
      "  [ 0.+0.j -0.+0.j  0.-0.j ...  0.-0.j -0.+0.j  0.+0.j]]\n",
      "\n",
      " [[-0.+0.j  0.-0.j  0.+0.j ...  0.+0.j  0.-0.j -0.+0.j]\n",
      "  [ 0.-0.j  0.+0.j  0.+0.j ...  0.+0.j  0.+0.j  0.-0.j]\n",
      "  [ 0.+0.j  0.+0.j -0.+0.j ... -0.+0.j  0.+0.j  0.+0.j]\n",
      "  ...\n",
      "  [ 0.+0.j  0.+0.j -0.+0.j ... -0.+0.j  0.+0.j  0.+0.j]\n",
      "  [ 0.-0.j  0.+0.j  0.+0.j ...  0.+0.j  0.+0.j  0.-0.j]\n",
      "  [-0.+0.j  0.-0.j  0.+0.j ...  0.+0.j  0.-0.j -0.+0.j]]\n",
      "\n",
      " [[ 0.+0.j  0.+0.j  0.+0.j ...  0.+0.j  0.+0.j  0.+0.j]\n",
      "  [ 0.+0.j  0.+0.j -0.+0.j ... -0.+0.j  0.+0.j  0.+0.j]\n",
      "  [ 0.+0.j -0.+0.j  0.-0.j ...  0.-0.j -0.+0.j  0.+0.j]\n",
      "  ...\n",
      "  [ 0.+0.j -0.+0.j  0.-0.j ...  0.-0.j -0.+0.j  0.+0.j]\n",
      "  [ 0.+0.j  0.+0.j -0.+0.j ... -0.+0.j  0.+0.j  0.+0.j]\n",
      "  [ 0.+0.j  0.+0.j  0.+0.j ...  0.+0.j  0.+0.j  0.+0.j]]\n",
      "\n",
      " ...\n",
      "\n",
      " [[ 0.+0.j  0.+0.j  0.-0.j ...  0.-0.j  0.+0.j  0.+0.j]\n",
      "  [ 0.+0.j  0.-0.j -0.+0.j ... -0.+0.j  0.-0.j  0.+0.j]\n",
      "  [ 0.-0.j -0.+0.j  0.+0.j ...  0.+0.j -0.+0.j  0.-0.j]\n",
      "  ...\n",
      "  [ 0.-0.j -0.+0.j  0.+0.j ...  0.+0.j -0.+0.j  0.-0.j]\n",
      "  [ 0.+0.j  0.-0.j -0.+0.j ... -0.+0.j  0.-0.j  0.+0.j]\n",
      "  [ 0.+0.j  0.+0.j  0.-0.j ...  0.-0.j  0.+0.j  0.+0.j]]\n",
      "\n",
      " [[-0.+0.j  0.+0.j  0.+0.j ...  0.+0.j  0.+0.j -0.+0.j]\n",
      "  [ 0.+0.j  0.+0.j  0.-0.j ...  0.-0.j  0.+0.j  0.+0.j]\n",
      "  [ 0.+0.j  0.-0.j -0.+0.j ... -0.+0.j  0.-0.j  0.+0.j]\n",
      "  ...\n",
      "  [ 0.+0.j  0.-0.j -0.+0.j ... -0.+0.j  0.-0.j  0.+0.j]\n",
      "  [ 0.+0.j  0.+0.j  0.-0.j ...  0.-0.j  0.+0.j  0.+0.j]\n",
      "  [-0.+0.j  0.+0.j  0.+0.j ...  0.+0.j  0.+0.j -0.+0.j]]\n",
      "\n",
      " [[ 0.+0.j -0.+0.j  0.+0.j ...  0.+0.j -0.+0.j  0.+0.j]\n",
      "  [-0.+0.j  0.+0.j  0.+0.j ...  0.+0.j  0.+0.j -0.+0.j]\n",
      "  [ 0.+0.j  0.+0.j  0.-0.j ...  0.-0.j  0.+0.j  0.+0.j]\n",
      "  ...\n",
      "  [ 0.+0.j  0.+0.j  0.-0.j ...  0.-0.j  0.+0.j  0.+0.j]\n",
      "  [-0.+0.j  0.+0.j  0.+0.j ...  0.+0.j  0.+0.j -0.+0.j]\n",
      "  [ 0.+0.j -0.+0.j  0.+0.j ...  0.+0.j -0.+0.j  0.+0.j]]] (21, 23, 23)\n",
      "pupil_r (21, 31, 31)\n",
      "fft (21, 31, 31)\n",
      "pupil_r (21, 31, 31)\n",
      "PSF_R (21, 31, 31)\n"
     ]
    },
    {
     "ename": "AttributeError",
     "evalue": "'TensorShape' object has no attribute 'shape'",
     "output_type": "error",
     "traceback": [
      "\u001b[0;31m---------------------------------------------------------------------------\u001b[0m",
      "\u001b[0;31mAttributeError\u001b[0m                            Traceback (most recent call last)",
      "\u001b[0;32m<ipython-input-18-68733e4d43a0>\u001b[0m in \u001b[0;36m<module>\u001b[0;34m\u001b[0m\n\u001b[1;32m      2\u001b[0m     \u001b[0msess\u001b[0m\u001b[0;34m.\u001b[0m\u001b[0mrun\u001b[0m\u001b[0;34m(\u001b[0m\u001b[0mtf\u001b[0m\u001b[0;34m.\u001b[0m\u001b[0mglobal_variables_initializer\u001b[0m\u001b[0;34m(\u001b[0m\u001b[0;34m)\u001b[0m\u001b[0;34m)\u001b[0m\u001b[0;34m\u001b[0m\u001b[0;34m\u001b[0m\u001b[0m\n\u001b[1;32m      3\u001b[0m     \u001b[0msess\u001b[0m\u001b[0;34m.\u001b[0m\u001b[0mrun\u001b[0m\u001b[0;34m(\u001b[0m\u001b[0mtf\u001b[0m\u001b[0;34m.\u001b[0m\u001b[0mlocal_variables_initializer\u001b[0m\u001b[0;34m(\u001b[0m\u001b[0;34m)\u001b[0m\u001b[0;34m)\u001b[0m\u001b[0;34m\u001b[0m\u001b[0;34m\u001b[0m\u001b[0m\n\u001b[0;32m----> 4\u001b[0;31m     \u001b[0mPSFs\u001b[0m \u001b[0;34m=\u001b[0m \u001b[0mgen_PSFs\u001b[0m\u001b[0;34m(\u001b[0m\u001b[0mh\u001b[0m\u001b[0;34m,\u001b[0m \u001b[0mOOFphase\u001b[0m\u001b[0;34m,\u001b[0m \u001b[0mwvls\u001b[0m\u001b[0;34m,\u001b[0m \u001b[0midx\u001b[0m\u001b[0;34m,\u001b[0m \u001b[0mN_R\u001b[0m\u001b[0;34m,\u001b[0m \u001b[0mN_G\u001b[0m\u001b[0;34m,\u001b[0m \u001b[0mN_B\u001b[0m\u001b[0;34m)\u001b[0m  \u001b[0;31m# return (N_Phi, N_B, N_B, N_color)\u001b[0m\u001b[0;34m\u001b[0m\u001b[0;34m\u001b[0m\u001b[0m\n\u001b[0m",
      "\u001b[0;32m<ipython-input-17-a9ed2947ac56>\u001b[0m in \u001b[0;36mgen_PSFs\u001b[0;34m(h, OOFphase, wvls, idx, N_R, N_G, N_B)\u001b[0m\n\u001b[1;32m     51\u001b[0m                          \u001b[0;34m[\u001b[0m\u001b[0;34m[\u001b[0m\u001b[0;36m0\u001b[0m\u001b[0;34m,\u001b[0m \u001b[0;36m0\u001b[0m\u001b[0;34m]\u001b[0m\u001b[0;34m,\u001b[0m \u001b[0;34m[\u001b[0m\u001b[0;34m(\u001b[0m\u001b[0mN_G\u001b[0m \u001b[0;34m-\u001b[0m \u001b[0mN_B\u001b[0m\u001b[0;34m)\u001b[0m \u001b[0;34m//\u001b[0m \u001b[0;36m2\u001b[0m\u001b[0;34m,\u001b[0m \u001b[0;34m(\u001b[0m\u001b[0mN_G\u001b[0m \u001b[0;34m-\u001b[0m \u001b[0mN_B\u001b[0m\u001b[0;34m)\u001b[0m \u001b[0;34m//\u001b[0m \u001b[0;36m2\u001b[0m\u001b[0;34m]\u001b[0m\u001b[0;34m,\u001b[0m \u001b[0;34m[\u001b[0m\u001b[0;34m(\u001b[0m\u001b[0mN_G\u001b[0m \u001b[0;34m-\u001b[0m \u001b[0mN_B\u001b[0m\u001b[0;34m)\u001b[0m \u001b[0;34m//\u001b[0m \u001b[0;36m2\u001b[0m\u001b[0;34m,\u001b[0m \u001b[0;34m(\u001b[0m\u001b[0mN_G\u001b[0m \u001b[0;34m-\u001b[0m \u001b[0mN_B\u001b[0m\u001b[0;34m)\u001b[0m \u001b[0;34m//\u001b[0m \u001b[0;36m2\u001b[0m\u001b[0;34m]\u001b[0m\u001b[0;34m]\u001b[0m\u001b[0;34m,\u001b[0m\u001b[0;34m\u001b[0m\u001b[0;34m\u001b[0m\u001b[0m\n\u001b[1;32m     52\u001b[0m                          name='Pupil_G')\n\u001b[0;32m---> 53\u001b[0;31m         \u001b[0mprint\u001b[0m\u001b[0;34m(\u001b[0m\u001b[0;34m\"fft\"\u001b[0m\u001b[0;34m,\u001b[0m \u001b[0mfft2dshift\u001b[0m\u001b[0;34m(\u001b[0m\u001b[0mtf\u001b[0m\u001b[0;34m.\u001b[0m\u001b[0mfft2d\u001b[0m\u001b[0;34m(\u001b[0m\u001b[0mPupil_G\u001b[0m\u001b[0;34m)\u001b[0m\u001b[0;34m.\u001b[0m\u001b[0mshape\u001b[0m\u001b[0;34m)\u001b[0m\u001b[0;34m)\u001b[0m\u001b[0;34m\u001b[0m\u001b[0;34m\u001b[0m\u001b[0m\n\u001b[0m\u001b[1;32m     54\u001b[0m         \u001b[0mprint\u001b[0m\u001b[0;34m(\u001b[0m\u001b[0;34m\"Pupil_G\"\u001b[0m\u001b[0;34m,\u001b[0m \u001b[0mPupil_G\u001b[0m\u001b[0;34m.\u001b[0m\u001b[0mshape\u001b[0m\u001b[0;34m)\u001b[0m\u001b[0;34m\u001b[0m\u001b[0;34m\u001b[0m\u001b[0m\n\u001b[1;32m     55\u001b[0m         \u001b[0mNorm_G\u001b[0m \u001b[0;34m=\u001b[0m \u001b[0mtf\u001b[0m\u001b[0;34m.\u001b[0m\u001b[0mcast\u001b[0m\u001b[0;34m(\u001b[0m\u001b[0mN_G\u001b[0m \u001b[0;34m*\u001b[0m \u001b[0mN_G\u001b[0m \u001b[0;34m*\u001b[0m \u001b[0mnp\u001b[0m\u001b[0;34m.\u001b[0m\u001b[0msum\u001b[0m\u001b[0;34m(\u001b[0m\u001b[0midx\u001b[0m \u001b[0;34m**\u001b[0m \u001b[0;36m2\u001b[0m\u001b[0;34m)\u001b[0m\u001b[0;34m,\u001b[0m \u001b[0mtf\u001b[0m\u001b[0;34m.\u001b[0m\u001b[0mfloat32\u001b[0m\u001b[0;34m)\u001b[0m\u001b[0;34m\u001b[0m\u001b[0;34m\u001b[0m\u001b[0m\n",
      "\u001b[0;32m<ipython-input-17-a9ed2947ac56>\u001b[0m in \u001b[0;36mfft2dshift\u001b[0;34m(input)\u001b[0m\n\u001b[1;32m      1\u001b[0m \u001b[0;32mdef\u001b[0m \u001b[0mfft2dshift\u001b[0m\u001b[0;34m(\u001b[0m\u001b[0minput\u001b[0m\u001b[0;34m)\u001b[0m\u001b[0;34m:\u001b[0m\u001b[0;34m\u001b[0m\u001b[0;34m\u001b[0m\u001b[0m\n\u001b[0;32m----> 2\u001b[0;31m     \u001b[0mdim\u001b[0m \u001b[0;34m=\u001b[0m \u001b[0mint\u001b[0m\u001b[0;34m(\u001b[0m\u001b[0minput\u001b[0m\u001b[0;34m.\u001b[0m\u001b[0mshape\u001b[0m\u001b[0;34m[\u001b[0m\u001b[0;36m1\u001b[0m\u001b[0;34m]\u001b[0m\u001b[0;34m.\u001b[0m\u001b[0mvalue\u001b[0m\u001b[0;34m)\u001b[0m  \u001b[0;31m# dimension of the data\u001b[0m\u001b[0;34m\u001b[0m\u001b[0;34m\u001b[0m\u001b[0m\n\u001b[0m\u001b[1;32m      3\u001b[0m     \u001b[0;32mif\u001b[0m \u001b[0mdim\u001b[0m \u001b[0;34m%\u001b[0m \u001b[0;36m2\u001b[0m \u001b[0;34m==\u001b[0m \u001b[0;36m0\u001b[0m\u001b[0;34m:\u001b[0m\u001b[0;34m\u001b[0m\u001b[0;34m\u001b[0m\u001b[0m\n\u001b[1;32m      4\u001b[0m         \u001b[0mprint\u001b[0m\u001b[0;34m(\u001b[0m\u001b[0;34m'Please make the size of kernel odd'\u001b[0m\u001b[0;34m)\u001b[0m\u001b[0;34m\u001b[0m\u001b[0;34m\u001b[0m\u001b[0m\n\u001b[1;32m      5\u001b[0m     \u001b[0mchannel1\u001b[0m \u001b[0;34m=\u001b[0m \u001b[0mint\u001b[0m\u001b[0;34m(\u001b[0m\u001b[0minput\u001b[0m\u001b[0;34m.\u001b[0m\u001b[0mshape\u001b[0m\u001b[0;34m[\u001b[0m\u001b[0;36m0\u001b[0m\u001b[0;34m]\u001b[0m\u001b[0;34m.\u001b[0m\u001b[0mvalue\u001b[0m\u001b[0;34m)\u001b[0m  \u001b[0;31m# channels for the first dimension\u001b[0m\u001b[0;34m\u001b[0m\u001b[0;34m\u001b[0m\u001b[0m\n",
      "\u001b[0;31mAttributeError\u001b[0m: 'TensorShape' object has no attribute 'shape'"
     ]
    }
   ],
   "source": [
    "with tf.Session() as sess:\n",
    "    sess.run(tf.global_variables_initializer())\n",
    "    sess.run(tf.local_variables_initializer())\n",
    "    PSFs = gen_PSFs(h, OOFphase, wvls, idx, N_R, N_G, N_B)  # return (N_Phi, N_B, N_B, N_color)"
   ]
  },
  {
   "cell_type": "code",
   "execution_count": null,
   "id": "dc1dd4c4",
   "metadata": {
    "scrolled": false
   },
   "outputs": [],
   "source": []
  },
  {
   "cell_type": "code",
   "execution_count": 10,
   "id": "bfeefdd9",
   "metadata": {},
   "outputs": [
    {
     "data": {
      "text/plain": [
       "TensorShape([Dimension(21), Dimension(23), Dimension(23), Dimension(3)])"
      ]
     },
     "execution_count": 10,
     "metadata": {},
     "output_type": "execute_result"
    }
   ],
   "source": [
    "PSFs.shape"
   ]
  }
 ],
 "metadata": {
  "kernelspec": {
   "display_name": "Python [conda env:py36] *",
   "language": "python",
   "name": "conda-env-py36-py"
  },
  "language_info": {
   "codemirror_mode": {
    "name": "ipython",
    "version": 3
   },
   "file_extension": ".py",
   "mimetype": "text/x-python",
   "name": "python",
   "nbconvert_exporter": "python",
   "pygments_lexer": "ipython3",
   "version": "3.6.13"
  }
 },
 "nbformat": 4,
 "nbformat_minor": 5
}
