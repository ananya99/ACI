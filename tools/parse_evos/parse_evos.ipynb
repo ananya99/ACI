{
 "cells": [
  {
   "cell_type": "markdown",
   "metadata": {},
   "source": [
    "# Parse Evos\n",
    "\n",
    "This is the same as the parse_evos.py script, but maintains load memory, so you can debug script configs without having to reload the data every time."
   ]
  },
  {
   "cell_type": "code",
   "execution_count": null,
   "metadata": {},
   "outputs": [],
   "source": [
    "%reload_ext autoreload\n",
    "%autoreload 2\n",
    "\n",
    "import logging.config\n",
    "from pathlib import Path\n",
    "\n",
    "from omegaconf import OmegaConf\n",
    "import matplotlib.pyplot as plt\n",
    "\n",
    "from cambrian.utils.logger import get_logger\n",
    "\n",
    "from parse_evos import ParseEvosConfig, try_load_pickle, load_data, save_data, run_plot, update_plots\n",
    "\n",
    "# plt.ioff()  # Turn off interactive mode\n",
    "%matplotlib agg"
   ]
  },
  {
   "cell_type": "code",
   "execution_count": null,
   "metadata": {},
   "outputs": [],
   "source": [
    "config_name = \"tools/parse_evos/env_vs_hw2\"\n",
    "base_dir = Path.cwd().parent.parent.absolute()"
   ]
  },
  {
   "cell_type": "code",
   "execution_count": null,
   "metadata": {},
   "outputs": [],
   "source": [
    "folder = input(\"Enter the folder name: \")\n",
    "assert (base_dir / folder).exists(), f\"Folder {folder} does not exist in {base_dir}.\""
   ]
  },
  {
   "cell_type": "code",
   "execution_count": null,
   "metadata": {},
   "outputs": [],
   "source": [
    "overrides = [f\"folder={base_dir / folder}\", \"force=True\", \"debug=False\"]\n",
    "config, hydra_config = ParseEvosConfig.compose(base_dir / \"configs\", config_name, overrides=overrides, return_hydra_config=True)\n",
    "\n",
    "logging_config = OmegaConf.to_container(hydra_config.job_logging)\n",
    "del logging_config[\"handlers\"][\"console\"]\n",
    "del logging_config[\"handlers\"][\"file\"]\n",
    "logging.config.dictConfig(logging_config)\n",
    "assert not (config.debug and config.quiet), \"Cannot be both debug and quiet.\"\n",
    "if config.debug:\n",
    "    get_logger().setLevel(\"DEBUG\")\n",
    "elif config.quiet:\n",
    "    get_logger().setLevel(\"WARNING\")\n",
    "\n",
    "get_logger().info(f\"Loaded folder: {folder}\")"
   ]
  },
  {
   "cell_type": "code",
   "execution_count": null,
   "metadata": {},
   "outputs": [],
   "source": [
    "if config.force or (data := try_load_pickle(config.output, \"data.pkl\")) is None:\n",
    "    data = load_data(config)\n",
    "\n",
    "    if not config.no_save:\n",
    "        save_data(data, config.output, \"data.pkl\")\n",
    "assert data is not None"
   ]
  },
  {
   "cell_type": "code",
   "execution_count": null,
   "metadata": {},
   "outputs": [],
   "source": [
    "%%capture\n",
    "\n",
    "# Save\n",
    "run_plot(config, data)\n",
    "update_plots(config, save=False, show=True)"
   ]
  },
  {
   "cell_type": "code",
   "execution_count": null,
   "metadata": {},
   "outputs": [],
   "source": [
    "# Save\n",
    "run_plot(config, data)\n",
    "update_plots(config, save=True, show=False)"
   ]
  },
  {
   "cell_type": "code",
   "execution_count": null,
   "metadata": {},
   "outputs": [],
   "source": []
  }
 ],
 "metadata": {
  "kernelspec": {
   "display_name": "env",
   "language": "python",
   "name": "python3"
  },
  "language_info": {
   "codemirror_mode": {
    "name": "ipython",
    "version": 3
   },
   "file_extension": ".py",
   "mimetype": "text/x-python",
   "name": "python",
   "nbconvert_exporter": "python",
   "pygments_lexer": "ipython3",
   "version": "3.11.9"
  }
 },
 "nbformat": 4,
 "nbformat_minor": 2
}
